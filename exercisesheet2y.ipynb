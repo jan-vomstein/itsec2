{
 "cells": [
  {
   "attachments": {},
   "cell_type": "markdown",
   "metadata": {},
   "source": [
    "# Übungsblatt 2 - ITSec II\n",
    "\n",
    "Tutor: Stefan Machmeier(mailto:stefan.machmeier@uni-heidelberg.de)"
   ]
  },
  {
   "cell_type": "code",
   "execution_count": 15,
   "metadata": {},
   "outputs": [],
   "source": [
    "import hashlib\n",
    "import os\n",
    "import time\n",
    "import base64\n",
    "from time import sleep\n",
    "from binascii import hexlify, unhexlify\n",
    "from urllib.parse import urlparse, parse_qs\n",
    "from itertools import zip_longest\n",
    "import hmac"
   ]
  },
  {
   "attachments": {},
   "cell_type": "markdown",
   "metadata": {},
   "source": [
    "# Aufgabe 1 (30 Pkt.)\n",
    "\n",
    "## (a) MD5 Hash Kollision (10 Pkt.)\n",
    "\n",
    "Erzeugen Sie mit `md5_prime` eine Hash-Kollision mit reduzierte Eingangsgröße von $16$ Byte und Ausgangsgröße von $4$ Byte. Reduzierter Ausgangsgröße bedeutet, dass wir nur die ersten $4$ Bytes eines vollständigen MD5 Hash betrachten, um schnell Kollisionen zu erhalten.\n",
    "\n",
    "Verwenden Sie dazu die Lib `hashlib.md5()`.\n"
   ]
  },
  {
   "cell_type": "code",
   "execution_count": 2,
   "metadata": {},
   "outputs": [],
   "source": [
    "def md5_prime(text, output_bytes):\n",
    "    ###########################################################################\n",
    "    # YOUR CODE GOES HERE\n",
    "    ###########################################################################\n",
    "    pass"
   ]
  },
  {
   "cell_type": "code",
   "execution_count": 1,
   "metadata": {},
   "outputs": [],
   "source": [
    "###########################################################################\n",
    "# YOUR CODE GOES HERE\n",
    "###########################################################################\n"
   ]
  },
  {
   "attachments": {},
   "cell_type": "markdown",
   "metadata": {},
   "source": [
    "## (b) MD5 Hash-Kollision mit gegeben Prefix (15 Pkt.)\n",
    "\n",
    "Wir haben ausführlich betrachtet, wie eine MD5 Kollision mit reduzierter Ein- und Ausgangsgröße erzeugt werden kann. Nun betrachten wir den Anwendungsfall, dass wir einen gegebenen Prefix einer Nachricht haben und darauf basierend zwei Nachrichten mit gleichem Hash erhalten möchten.\n",
    "\n",
    "Sie können dazu den Floyd Algorithmus (https://en.wikipedia.org/wiki/Cycle_detection) verwenden."
   ]
  },
  {
   "cell_type": "code",
   "execution_count": 7,
   "metadata": {},
   "outputs": [],
   "source": [
    "my_prefix = b'\\x85\\x33\\x47'"
   ]
  },
  {
   "cell_type": "code",
   "execution_count": 6,
   "metadata": {},
   "outputs": [],
   "source": [
    "def md5_prime(message, x, prefix):\n",
    "  ###########################################################################\n",
    "  # YOUR CODE GOES HERE\n",
    "  ###########################################################################\n",
    "  return 0"
   ]
  },
  {
   "cell_type": "code",
   "execution_count": 8,
   "metadata": {},
   "outputs": [],
   "source": [
    "def floyd(x, initial):\n",
    "  x0 = initial\n",
    "  m0 = None\n",
    "  m1 = None\n",
    "\n",
    "  # Start\n",
    "  tortoise = md5_prime(x0, x, my_prefix)\n",
    "  hare = md5_prime(tortoise, x, my_prefix)\n",
    "\n",
    "  ###########################################################################\n",
    "  # YOUR CODE GOES HERE\n",
    "  ###########################################################################\n",
    "  \n",
    "  \n",
    "  #print(f'Nachricht {m0.hex()} und {m1.hex()} haben den gleichen Hash {md5_prime(m0, x, my_prefix)}')"
   ]
  },
  {
   "cell_type": "code",
   "execution_count": 9,
   "metadata": {},
   "outputs": [],
   "source": [
    "# Floyd mit initialen Wert\n",
    "floyd(x=4, initial=b\"1234\")"
   ]
  },
  {
   "attachments": {},
   "cell_type": "markdown",
   "metadata": {},
   "source": [
    "## Aufgabe 2 SHA-1 und HMAC-SHA1 Implementierung (15 Pkt.)\n",
    "\n",
    "Bevor wir mit einer praktischen Umsetzung einer Timing Attacke beginnen, schauen wir uns die Umsetzung von HMAC-SHA1 aus der Vorlesung an. Berechnen Sie die HMAC-SHA1 mit `hashlib.sha1()` und der gegebenen Funktion `bxor(a, b, longest=True)`. Ihre Berechnung können Sie jederzeit gegen die `hmac` Python Library validieren lassen. Als Hilfestellung schauen Sie sich den RFC 2104 (https://datatracker.ietf.org/doc/html/rfc2104) an.\n",
    "\n",
    "**Achtung**: Falls Sie diese Berechnung **nicht** erfolgreich implementieren können, kann in den folgenden Aufgaben die `hmac` Python Library verwendet werden."
   ]
  },
  {
   "cell_type": "code",
   "execution_count": 10,
   "metadata": {},
   "outputs": [],
   "source": [
    "# XOR Operation für HMAC-SHA1 Implementierung\n",
    "def bxor(a, b, longest=True):\n",
    "    if longest:\n",
    "        return bytes([ x^y for (x, y) in zip_longest(a, b, fillvalue=0)])\n",
    "    else:\n",
    "        return bytes([ x^y for (x, y) in zip(a, b)])"
   ]
  },
  {
   "cell_type": "code",
   "execution_count": 13,
   "metadata": {},
   "outputs": [],
   "source": [
    "def sha1(data):\n",
    "    ###########################################################################\n",
    "    # YOUR CODE GOES HERE\n",
    "    ###########################################################################\n",
    "    # Verwenden Sie hashlib.sha1()\n",
    "    return 0\n",
    "\n",
    "def hmac_sha1(data, key):\n",
    "    IPAD = b'\\x36'*64\n",
    "    OPAD = b'\\x5C'*64\n",
    "    ###########################################################################\n",
    "    # YOUR CODE GOES HERE\n",
    "    ###########################################################################\n",
    "    # Verwenden Sie sha1(data) und bxor(a, b, longest=True)\n",
    "    return 0"
   ]
  },
  {
   "cell_type": "code",
   "execution_count": 16,
   "metadata": {},
   "outputs": [
    {
     "ename": "AssertionError",
     "evalue": "",
     "output_type": "error",
     "traceback": [
      "\u001b[0;31m---------------------------------------------------------------------------\u001b[0m",
      "\u001b[0;31mAssertionError\u001b[0m                            Traceback (most recent call last)",
      "Cell \u001b[0;32mIn[16], line 8\u001b[0m\n\u001b[1;32m      4\u001b[0m digester \u001b[39m=\u001b[39m hmac\u001b[39m.\u001b[39mnew(key, message, hashlib\u001b[39m.\u001b[39msha1)\n\u001b[1;32m      5\u001b[0m signature1 \u001b[39m=\u001b[39m digester\u001b[39m.\u001b[39mdigest()\n\u001b[1;32m      7\u001b[0m \u001b[39massert\u001b[39;00m (\n\u001b[0;32m----> 8\u001b[0m     hmac_sha1(\u001b[39mb\u001b[39m\u001b[39m'\u001b[39m\u001b[39mTest Nachricht\u001b[39m\u001b[39m'\u001b[39m, \u001b[39mb\u001b[39m\u001b[39m'\u001b[39m\u001b[39mTest Key\u001b[39m\u001b[39m'\u001b[39m)\n\u001b[1;32m      9\u001b[0m     \u001b[39m==\u001b[39m signature1\n\u001b[1;32m     10\u001b[0m )\n\u001b[1;32m     12\u001b[0m \u001b[39mprint\u001b[39m(\u001b[39mf\u001b[39m\u001b[39m\"\u001b[39m\u001b[39mDie Signatur ist \u001b[39m\u001b[39m{\u001b[39;00msignature1\u001b[39m}\u001b[39;00m\u001b[39m\"\u001b[39m)\n",
      "\u001b[0;31mAssertionError\u001b[0m: "
     ]
    }
   ],
   "source": [
    "# Validieren der Funktion\n",
    "key = bytes('Test Key', 'UTF-8')\n",
    "message = bytes(\"Test Nachricht\", 'UTF-8')\n",
    "digester = hmac.new(key, message, hashlib.sha1)\n",
    "signature1 = digester.digest()\n",
    "\n",
    "assert (\n",
    "    hmac_sha1(b'Test Nachricht', b'Test Key')\n",
    "    == signature1\n",
    ")\n",
    "\n",
    "print(f\"Die Signatur ist {signature1}\")"
   ]
  },
  {
   "attachments": {},
   "cell_type": "markdown",
   "metadata": {},
   "source": [
    "# Aufgabe 3 Timing Attacke auf HMAC-SHA1 (30 Pkt.)\n",
    "\n",
    "Hier untersuchen wir eine Timing Attacke auf HMAC-SHA1. Normalerweise wird hierzu ein Webserver benötigt, um einen solchen Angriff auszuführen. Zur Vereinfachung gibt es die Klasse `MockWebserver`, welche einen Webserver imitiert und das benötigte Delay von 50ms einbaut.\n",
    "\n",
    "### Was sind Timing Attacken?\n",
    "\n",
    "Eine Timing Attacke in der Kryptografie beschreibt einen \"Side-Channel Attack\", bei dem der Angreifer versucht, das kryptografische System zu kompromittieren, indem er die Zeitspanne für die Ausführung kryptografischer Algorithmen analysiert.\n",
    "\n",
    "Ein klassisches Beispiel dazu ist ein String Vergleich auf Byte-Ebene.\n",
    "\n",
    "```py\n",
    "if user:\n",
    "    if key == user.key  # Timing attack vector\n",
    "      return user\n",
    "    else\n",
    "      raise 'Invalid key'\n",
    "  else\n",
    "    raise 'No user was found'\n",
    "```\n",
    "\n",
    "Für die Validierung des Keys wird jedes Byte einzeln überprüft. Sobald ein Byte abweicht, gibt es die Exception zurück. Falls ein Angreifer die Zeitspanne zwischen Senden und Erhalten errechnet, kann er den Key schrittweise erhalten.\n",
    "\n",
    "```\n",
    "# 5 ns\n",
    "'00000000' = '95624587'\n",
    "# 5 ns\n",
    "'01000000' = '95624587'\n",
    "# 5 ns\n",
    "'09000000' = '95624587'\n",
    "...\n",
    "# 15 ns\n",
    "'95000000' = '95624587'\n",
    "# 20 ns\n",
    "'95010000' = '95624587'\n",
    "...\n",
    "# 30 ns\n",
    "'95620000' = '95624587'\n",
    "```\n",
    "\n",
    "### Wie funktioniert eine Timing Attacke auf HMAC-SHA1?\n",
    "\n",
    "Zum Erstellen einer HMAC-SHA1 Signatur wird ein Schlüssel benötigt. Ein Angreifer, der beliebige Daten zum Kompromittieren in das System einspeisen möchte, muss somit eine korrekte Signatur zu den Daten haben, andernfalls wird seine Anfrage abgelehnt/ignoriert.\n",
    "Wie im oberen Beispiel erläutert, nutzt er dazu die gemessene Zeitspanne zwischen Senden und Erhalten aus.\n",
    "\n",
    "Die Schritte für einen solchen Angriff können wie folgt sein:\n",
    "- Der Angreifer sendet eine Nachricht mit HMAC (eigentlich nur eine Folge von Bytes mit der gleichen Länge wie die HMAC), um die initiale Zeit des Systems zu erhalten.\n",
    "- Der Angreifer sendet erneut dieselbe Nachricht mit Pseudo-HMAC, dass nun jeden (256) möglichen Wert für das erste Byte der HMAC durchläuft.\n",
    "- Wenn das System sofort einen Fehler zurückgibt, sollte eine Iterationen mit dem gleichen Wert des ersten Bytes, wie es vom System berechnet wurde, länger brauchen.\n",
    "Diesen Unterschied kann der Angreifer feststellen und das richtige erste Byte für die richtige HMAC der Nachricht erhalten.\n",
    "- Der Angreifer sendet dieselbe Nachricht und HMAC, diesmal mit dem bekannten korrekten ersten Byte, und iteriert über das zweite Byte, bis er wieder das Byte findet, das das System veranlasst länger zu rechnen, um mit einem Fehler zu antworten. Der Angreifer kennt nun das zweite Byte der korrekten HMAC.\n",
    "- Das wird für jedes aufeinanderfolgende Byte im HMAC wiederholt, bis eine gültige HMAC für die vom Angreifer gewählte Nachricht ohne Schlüssel abgeleitet worden ist."
   ]
  },
  {
   "attachments": {},
   "cell_type": "markdown",
   "metadata": {},
   "source": [
    "## Timing Attacke\n",
    "\n",
    "Nun schauen wir uns ein Beispiel an, wie eine solche Timing Attacke ablaufen kann.\n",
    "\n",
    "Unser `MockWebserver` akzeptiert die HTTP Parameter `file` und `signature`, welche in der Funktion `verify_signature` validiert werden. Die Funktion `verify_signature` hat ein Delay von $50$ ms für Datenbankzugriffe o.ä..\n",
    "In der Validierung der Signature liegt ein klassischer Fehler, wie er bereits oben beschrieben worden ist."
   ]
  },
  {
   "cell_type": "code",
   "execution_count": 71,
   "metadata": {},
   "outputs": [],
   "source": [
    "# Validierung der Signatur\n",
    "class InvalidSignatureError(Exception):\n",
    "    pass\n",
    "\n",
    "def verify_signature(signature, data, key):\n",
    "    # expected_signature = hmac_sha1(data, key) # Sie können hier Ihre eigene Implementierung testn\n",
    "    expected_signature = unhexlify(hmac.new(data, key, hashlib.sha1).hexdigest())\n",
    "    for (sig_byte, expected_byte) in zip(signature, expected_signature):\n",
    "        if sig_byte != expected_byte:\n",
    "            # dies ist der \"vorzeitige Ausgang\":\n",
    "            # technisch gesehen können wir die Signatur zurückweisen\n",
    "            # *sobald* wir ein Byte gefunden haben, das abweicht.\n",
    "            # Dies ist jedoch die Ursache für die Sicherheitslücke\n",
    "            # die in dieser Challenge ausgenutzt wird.\n",
    "            raise InvalidSignatureError\n",
    "\n",
    "        # Hier ist das \"delay\" von 50 ms\n",
    "        sleep(0.05)"
   ]
  },
  {
   "cell_type": "code",
   "execution_count": 70,
   "metadata": {},
   "outputs": [],
   "source": [
    "class MockWebserver:\n",
    "    def __init__(self):\n",
    "        self.mac_key = os.urandom(16)\n",
    "\n",
    "    def handle_query(self, url):\n",
    "        parsed_query = parse_qs(urlparse(url).query)\n",
    "\n",
    "        # note the \"[0]\": function `parse_qs` maps keys to *lists* of values\n",
    "        # because the HTTP protocol allows the same key to appear several time\n",
    "        # in a query string\n",
    "        file = parsed_query['file'][0]\n",
    "        signature = parsed_query['signature'][0]\n",
    "\n",
    "        sig_bytes = unhexlify(signature)\n",
    "\n",
    "        verify_signature(sig_bytes, file.encode(), self.mac_key)"
   ]
  },
  {
   "attachments": {},
   "cell_type": "markdown",
   "metadata": {},
   "source": [
    "Wir sehen, dass eine falsche Signatur zu einer Exception führt."
   ]
  },
  {
   "cell_type": "code",
   "execution_count": 69,
   "metadata": {},
   "outputs": [],
   "source": [
    "# Erstelle Fake Website\n",
    "websever = MockWebserver()\n",
    "# Test: Hier berechnen wir eine HMAC-SHA1 für den String `foo`\n",
    "correct_signature = hmac.new(bytes('test', 'UTF-8'), websever.mac_key, hashlib.sha1).hexdigest()\n",
    "# Handle Query sollte erfolgreich sein\n",
    "websever.handle_query(f\"http://localhost:9000/test?file=test&signature={correct_signature}\")\n",
    "# Nun erstellen wir eine fehlerhafte Signatur, welche zu einem Fehler in unserem Fake Webserver führen sollte\n",
    "wrong_signature = correct_signature[:2] + 'fff' + correct_signature[5:]\n",
    "try:\n",
    "    websever.handle_query(f\"http://localhost:9000/test?file=test&signature={wrong_signature}\")\n",
    "    raise Exception('Expected an \"InvalidSignatureError\"')\n",
    "except InvalidSignatureError:\n",
    "    pass"
   ]
  },
  {
   "attachments": {},
   "cell_type": "markdown",
   "metadata": {},
   "source": [
    "Schauen wir uns die Zeitmessung an (`measure_verification_time`). Wir sehen, dass für das File `test` die korrekte Signatur mit dem Byte `9f` beginnt, welches in der Validierung von `verify_signature` 54 ms benötigt hat. Alle anderen Bytes die wir erzeugt haben, hatte eine Zeitmessung von 0 ms, da in der Verifikation sofort eine Exception entstand als ein Byte von dem erwarteten Byte abwich. Diese Zeitabweichung hilft uns das erste Byte `9f` der korrekten Signatur zu `file` (welche wir nicht kennen) abzuleiten."
   ]
  },
  {
   "cell_type": "code",
   "execution_count": 22,
   "metadata": {},
   "outputs": [],
   "source": [
    "def measure_verification_time(signature, websever):\n",
    "    start_time = time.perf_counter_ns()\n",
    "    try:\n",
    "        websever.handle_query(f\"http://localhost:9000/test?file=test&signature={signature}\")\n",
    "        raise Exception('signature was not rejected')\n",
    "    except InvalidSignatureError:\n",
    "        pass\n",
    "    end_time = time.perf_counter_ns()\n",
    "\n",
    "    duration = end_time - start_time\n",
    "    # we return duration in milliseconds\n",
    "    # (time.perf_counter_ns() returns nanoseconds)\n",
    "    return duration//1_000_000"
   ]
  },
  {
   "attachments": {},
   "cell_type": "markdown",
   "metadata": {},
   "source": [
    "`timings_first_byte` enthält alle 256 Byte Möglichkeiten für das erste Byte."
   ]
  },
  {
   "cell_type": "code",
   "execution_count": 72,
   "metadata": {},
   "outputs": [],
   "source": [
    "timings_first_byte = [\n",
    "    # see https://docs.python.org/3/library/string.html#formatspec\n",
    "    # for more information on the formating mini-language (the \":02x\" thing)\n",
    "    (\n",
    "        measure_verification_time(f'{first_byte:02x}' + '0'*(15*2), websever),\n",
    "        f'{first_byte:02x}',\n",
    "    )\n",
    "    for first_byte in range(256)\n",
    "]"
   ]
  },
  {
   "attachments": {},
   "cell_type": "markdown",
   "metadata": {},
   "source": [
    "Wir sehen hier die auffällig lange Zeitspanne von dem Byte `9f`"
   ]
  },
  {
   "cell_type": "code",
   "execution_count": 73,
   "metadata": {},
   "outputs": [
    {
     "data": {
      "text/plain": [
       "[(54, '9f'), (0, 'ff'), (0, 'fe'), (0, 'fd'), (0, 'fc')]"
      ]
     },
     "execution_count": 73,
     "metadata": {},
     "output_type": "execute_result"
    }
   ],
   "source": [
    "sorted(timings_first_byte, reverse=True)[:5]"
   ]
  },
  {
   "attachments": {},
   "cell_type": "markdown",
   "metadata": {},
   "source": [
    "## (b) Byte Recovery für Timing Attacke (20 Pkt.)\n",
    "\n",
    "Implementieren Sie die Byte Recovery Methode `recover_next_signature_byte`, welche unseren `MockWebserver` und die bisher wiederhergestellten Bytes erhält.\n",
    "Iterieren Sie dazu über alle möglichen Bytes und bestimmen Sie die Zeit zwischen Absenden und Erhalten, um alle weiteren korrekten Bytes zu bestimmen.\n"
   ]
  },
  {
   "cell_type": "code",
   "execution_count": 17,
   "metadata": {},
   "outputs": [],
   "source": [
    "def recover_next_signature_byte(webserver, already_recovered):\n",
    "    ###########################################################################\n",
    "    # YOUR CODE GOES HERE\n",
    "    ###########################################################################\n",
    "    pass"
   ]
  },
  {
   "attachments": {},
   "cell_type": "markdown",
   "metadata": {},
   "source": [
    "Zeigen Sie, dass Ihre Implementierung die ersten 4 Byte der korrekten Signatur erzeugen kann."
   ]
  },
  {
   "cell_type": "code",
   "execution_count": 24,
   "metadata": {},
   "outputs": [
    {
     "ename": "NameError",
     "evalue": "name 'correct_signature' is not defined",
     "output_type": "error",
     "traceback": [
      "\u001b[0;31m---------------------------------------------------------------------------\u001b[0m",
      "\u001b[0;31mNameError\u001b[0m                                 Traceback (most recent call last)",
      "Cell \u001b[0;32mIn[24], line 1\u001b[0m\n\u001b[0;32m----> 1\u001b[0m \u001b[39mprint\u001b[39m(\u001b[39m'\u001b[39m\u001b[39mEXPECTED SIGNATURE:\u001b[39m\u001b[39m'\u001b[39m, correct_signature)\n\u001b[1;32m      3\u001b[0m \u001b[39m# Achtung: Das Berechnen der Signature dauert sehr lange, daher reicht es nur die ersten 4 Byte aufzuzeigen.\u001b[39;00m\n\u001b[1;32m      5\u001b[0m counter \u001b[39m=\u001b[39m \u001b[39m0\u001b[39m\n",
      "\u001b[0;31mNameError\u001b[0m: name 'correct_signature' is not defined"
     ]
    }
   ],
   "source": [
    "print('EXPECTED SIGNATURE:', correct_signature)\n",
    "\n",
    "# Achtung: Das Berechnen der Signature dauert sehr lange, daher reicht es nur die ersten 4 Byte aufzuzeigen.\n",
    "\n",
    "counter = 0\n",
    "recovered_signature = str()\n",
    "for _ in range(16):\n",
    "    next_byte = recover_next_signature_byte(websever, recovered_signature)\n",
    "    recovered_signature += next_byte\n",
    "    counter += 1\n",
    "    print(next_byte)\n",
    "    if counter == 4:\n",
    "        break"
   ]
  },
  {
   "attachments": {},
   "cell_type": "markdown",
   "metadata": {},
   "source": [
    "## (c) Warum dauert das Berechnen der darauffolgenden Bytes so lange? (5 Pkt.)\n"
   ]
  },
  {
   "attachments": {},
   "cell_type": "markdown",
   "metadata": {},
   "source": [
    "## (d) Welche Mitigationsmaßnahmen können angewandt werden, um eine Timing Attack zu verhindern? (5 Pkt.)"
   ]
  }
 ],
 "metadata": {
  "kernelspec": {
   "display_name": ".venv",
   "language": "python",
   "name": "python3"
  },
  "language_info": {
   "codemirror_mode": {
    "name": "ipython",
    "version": 3
   },
   "file_extension": ".py",
   "mimetype": "text/x-python",
   "name": "python",
   "nbconvert_exporter": "python",
   "pygments_lexer": "ipython3",
   "version": "3.11.3"
  },
  "orig_nbformat": 4
 },
 "nbformat": 4,
 "nbformat_minor": 2
}
